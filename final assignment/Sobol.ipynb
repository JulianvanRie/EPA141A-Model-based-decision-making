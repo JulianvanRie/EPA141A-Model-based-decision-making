{
 "cells": [
  {
   "cell_type": "code",
   "execution_count": null,
   "id": "initial_id",
   "metadata": {
    "collapsed": true
   },
   "outputs": [],
   "source": [
    "import numpy as np\n",
    "import scipy as sp\n",
    "import pandas as pd\n",
    "import matplotlib.pyplot as plt\n",
    "import seaborn as sns\n",
    "import networkx as nx\n",
    "from ema_workbench import (\n",
    "    Model,\n",
    "    Policy,\n",
    "    ema_logging,\n",
    "    SequentialEvaluator,\n",
    "    MultiprocessingEvaluator,\n",
    ")\n",
    "from dike_model_function import DikeNetwork  # @UnresolvedImport\n",
    "from problem_formulation import get_model_for_problem_formulation, sum_over, sum_over_time\n",
    "from ema_workbench import save_results, load_results\n",
    "from ema_workbench import (Model, RealParameter, perform_experiments, ScalarOutcome)\n",
    "\n",
    "from ema_workbench import (\n",
    "    Model,\n",
    "    MultiprocessingEvaluator,\n",
    "    ScalarOutcome,\n",
    "    IntegerParameter,\n",
    "    optimize,\n",
    "    Scenario,\n",
    ")\n",
    "from ema_workbench.em_framework.optimization import EpsilonProgress\n",
    "from ema_workbench.util import ema_logging\n",
    "\n",
    "from problem_formulation import get_model_for_problem_formulation\n",
    "import matplotlib.pyplot as plt\n",
    "import seaborn as sns"
   ]
  },
  {
   "cell_type": "code",
   "execution_count": null,
   "outputs": [],
   "source": [
    "ema_logging.log_to_stderr(ema_logging.INFO)\n",
    "\n",
    "# choose problem formulation number, between 0-5\n",
    "# each problem formulation has its own list of outcomes\n",
    "dike_model, planning_steps = get_model_for_problem_formulation(2)"
   ],
   "metadata": {
    "collapsed": false
   },
   "id": "ae6b315d7395b326"
  },
  {
   "cell_type": "code",
   "execution_count": null,
   "outputs": [],
   "source": [
    "# enlisting uncertainties, their types (RealParameter/IntegerParameter/CategoricalParameter), lower boundary, and upper boundary\n",
    "import copy\n",
    "\n",
    "for unc in dike_model.uncertainties:\n",
    "    print(repr(unc))\n",
    "\n",
    "uncertainties = copy.deepcopy(dike_model.uncertainties)"
   ],
   "metadata": {
    "collapsed": false
   },
   "id": "c388a2098616f04d"
  },
  {
   "cell_type": "code",
   "execution_count": null,
   "outputs": [],
   "source": [
    "# enlisting policy levers, their types (RealParameter/IntegerParameter), lower boundary, and upper boundary\n",
    "for policy in dike_model.levers:\n",
    "    print(repr(policy))\n",
    "\n",
    "levers = copy.deepcopy(dike_model.levers)"
   ],
   "metadata": {
    "collapsed": false
   },
   "id": "9b4d48aba9b6e43d"
  },
  {
   "cell_type": "code",
   "execution_count": null,
   "outputs": [],
   "source": [
    "levers = copy.deepcopy(dike_model.levers)\n",
    "# enlisting outcomes\n",
    "for outcome in dike_model.outcomes:\n",
    "    print(repr(outcome))"
   ],
   "metadata": {
    "collapsed": false
   },
   "id": "c4e760c566b01ec6"
  },
  {
   "cell_type": "code",
   "execution_count": null,
   "outputs": [],
   "source": [
    "policy = [Policy({'0_RfR 0': 1.0, '0_RfR 1': 0.0, '0_RfR 2': 1.0, '1_RfR 0': 0.0, '1_RfR 1': 0.0, '1_RfR 2': 0.0, '2_RfR 0': 1.0, '2_RfR 1': 1.0, '2_RfR 2': 1.0, '3_RfR 0': 1.0, '3_RfR 1': 1.0, '3_RfR 2': 1.0, '4_RfR 0': 0.0, '4_RfR 1': 0.0, '4_RfR 2': 1.0, 'EWS_DaysToThreat': 2.0, 'A.1_DikeIncrease 0': 0.0, 'A.1_DikeIncrease 1': 0.0, 'A.1_DikeIncrease 2': 0.0, 'A.2_DikeIncrease 0': 3.0, 'A.2_DikeIncrease 1': 0.0, 'A.2_DikeIncrease 2': 0.0, 'A.3_DikeIncrease 0': 0.0, 'A.3_DikeIncrease 1': 0.0, 'A.3_DikeIncrease 2': 0.0, 'A.4_DikeIncrease 0': 1.0, 'A.4_DikeIncrease 1': 0.0, 'A.4_DikeIncrease 2': 1.0, 'A.5_DikeIncrease 0': 2.0, 'A.5_DikeIncrease 1': 0.0, 'A.5_DikeIncrease 2': 0.0})]"
   ],
   "metadata": {
    "collapsed": false
   },
   "id": "a8907de02031841f"
  },
  {
   "cell_type": "code",
   "execution_count": null,
   "outputs": [],
   "source": [
    "# policy = [Policy({'0_RfR 0': 1.0, '0_RfR 1': 0.0, '0_RfR 2': 1.0, '1_RfR 0': 0.0, '1_RfR 1': 0.0, '1_RfR 2': 0.0, '2_RfR 0': 1.0, '2_RfR 1': 1.0, '2_RfR 2': 1.0, '3_RfR 0': 1.0, '3_RfR 1': 1.0, '3_RfR 2': 1.0, '4_RfR 0': 0.0, '4_RfR 1': 0.0, '4_RfR 2': 1.0, 'EWS_DaysToThreat': 2.0, 'A.1_DikeIncrease 0': 0.0, 'A.1_DikeIncrease 1': 0.0, 'A.1_DikeIncrease 2': 0.0, 'A.2_DikeIncrease 0': 3.0, 'A.2_DikeIncrease 1': 0.0, 'A.2_DikeIncrease 2': 0.0, 'A.3_DikeIncrease 0': 0.0, 'A.3_DikeIncrease 1': 0.0, 'A.3_DikeIncrease 2': 0.0, 'A.4_DikeIncrease 0': 1.0, 'A.4_DikeIncrease 1': 0.0, 'A.4_DikeIncrease 2': 1.0, 'A.5_DikeIncrease 0': 2.0, 'A.5_DikeIncrease 1': 0.0, 'A.5_DikeIncrease 2': 0.0}),\n",
    "#  Policy({'0_RfR 0': 0.0, '0_RfR 1': 1.0, '0_RfR 2': 0.0, '1_RfR 0': 0.0, '1_RfR 1': 0.0, '1_RfR 2': 0.0, '2_RfR 0': 1.0, '2_RfR 1': 1.0, '2_RfR 2': 1.0, '3_RfR 0': 1.0, '3_RfR 1': 1.0, '3_RfR 2': 1.0, '4_RfR 0': 0.0, '4_RfR 1': 0.0, '4_RfR 2': 0.0, 'EWS_DaysToThreat': 3.0, 'A.1_DikeIncrease 0': 0.0, 'A.1_DikeIncrease 1': 0.0, 'A.1_DikeIncrease 2': 0.0, 'A.2_DikeIncrease 0': 2.0, 'A.2_DikeIncrease 1': 0.0, 'A.2_DikeIncrease 2': 0.0, 'A.3_DikeIncrease 0': 0.0, 'A.3_DikeIncrease 1': 0.0, 'A.3_DikeIncrease 2': 0.0, 'A.4_DikeIncrease 0': 3.0, 'A.4_DikeIncrease 1': 0.0, 'A.4_DikeIncrease 2': 0.0, 'A.5_DikeIncrease 0': 1.0, 'A.5_DikeIncrease 1': 0.0, 'A.5_DikeIncrease 2': 0.0, 'Expected Annual Damage': 0.0, 'Dike Investment Costs': 76309037.45427957, 'RfR Investment Costs': 540300000.0, 'Evacuation Costs': 0.0, 'Expected Number of Deaths': 0.0})]"
   ],
   "metadata": {
    "collapsed": false
   },
   "id": "f10c07451fe94938"
  },
  {
   "cell_type": "code",
   "execution_count": null,
   "outputs": [],
   "source": [
    "from ema_workbench import MultiprocessingEvaluator, ema_logging\n",
    "from ema_workbench import Samplers\n",
    "from ema_workbench.em_framework import get_SALib_problem\n",
    "\n",
    "ema_logging.log_to_stderr(ema_logging.INFO)\n",
    "    \n",
    "with MultiprocessingEvaluator(dike_model, n_processes=-2) as evaluator:\n",
    "    experiments, results = evaluator.perform_experiments(128, policies=policy,\n",
    "                                                         uncertainty_sampling=Samplers.SOBOL)"
   ],
   "metadata": {
    "collapsed": false
   },
   "id": "ef661d6ec2a52293"
  },
  {
   "cell_type": "code",
   "execution_count": null,
   "outputs": [],
   "source": [
    "problem = get_SALib_problem(dike_model.uncertainties)\n",
    "problem"
   ],
   "metadata": {
    "collapsed": false
   },
   "id": "aca1690f17c34d2c"
  },
  {
   "cell_type": "code",
   "execution_count": null,
   "outputs": [],
   "source": [
    "from SALib.analyze.sobol import analyze"
   ],
   "metadata": {
    "collapsed": false
   },
   "id": "c3ae59c807a10399"
  },
  {
   "cell_type": "code",
   "execution_count": null,
   "outputs": [],
   "source": [
    "sobol_results = {}\n",
    "for policy in experiments.policy.unique():\n",
    "    logical = experiments.policy == policy\n",
    "    y = results['reliability'][logical]\n",
    "    indices = analyze(problem, y)\n",
    "    sobol_results[policy] = indices"
   ],
   "metadata": {
    "collapsed": false
   },
   "id": "1b0bfd6595a30797"
  },
  {
   "cell_type": "code",
   "execution_count": null,
   "outputs": [],
   "source": [
    "fig, axes = plt.subplots(1,3)\n",
    "fig.set_size_inches(8, 4)\n",
    "indices.plot(ax=axes)"
   ],
   "metadata": {
    "collapsed": false
   },
   "id": "74ab705074379833"
  },
  {
   "cell_type": "markdown",
   "source": [
    "## Feature score"
   ],
   "metadata": {
    "collapsed": false
   },
   "id": "b54dd337871099d"
  },
  {
   "cell_type": "code",
   "execution_count": null,
   "outputs": [],
   "source": [
    "from ema_workbench.analysis import feature_scoring"
   ],
   "metadata": {
    "collapsed": false
   },
   "id": "b4366d59ae14f9d6"
  },
  {
   "cell_type": "code",
   "execution_count": null,
   "outputs": [],
   "source": [
    "cleaned_experiments = experiments.drop(columns=[l.name for l in dike_model.levers])\n",
    "\n",
    "scores = feature_scoring.get_feature_scores_all(cleaned_experiments,results)"
   ],
   "metadata": {
    "collapsed": false
   },
   "id": "bc24ef7f86c23fb8"
  },
  {
   "cell_type": "code",
   "execution_count": null,
   "outputs": [],
   "source": [
    "import seaborn as sns\n",
    "cleaned_experiments = experiments.drop(columns=[l.name for l in dike_model.levers])\n",
    "\n",
    "for policy in experiments.policy.unique():\n",
    "    logical = experiments.policy == policy\n",
    "    subset_results = {k:v[logical] for k,v in results.items()}\n",
    "    scores = feature_scoring.get_feature_scores_all(cleaned_experiments[logical],\n",
    "                                                   subset_results)\n",
    "    sns.heatmap(scores, annot=True, cmap='viridis')\n",
    "    plt.show()"
   ],
   "metadata": {
    "collapsed": false
   },
   "id": "e74090b0b18b3b3a"
  },
  {
   "cell_type": "code",
   "execution_count": null,
   "outputs": [],
   "source": [],
   "metadata": {
    "collapsed": false
   },
   "id": "e7b73dc69a154dbd"
  },
  {
   "cell_type": "code",
   "execution_count": null,
   "outputs": [],
   "source": [],
   "metadata": {
    "collapsed": false
   },
   "id": "37c895ee99f903c3"
  }
 ],
 "metadata": {
  "kernelspec": {
   "display_name": "Python 3",
   "language": "python",
   "name": "python3"
  },
  "language_info": {
   "codemirror_mode": {
    "name": "ipython",
    "version": 2
   },
   "file_extension": ".py",
   "mimetype": "text/x-python",
   "name": "python",
   "nbconvert_exporter": "python",
   "pygments_lexer": "ipython2",
   "version": "2.7.6"
  }
 },
 "nbformat": 4,
 "nbformat_minor": 5
}
