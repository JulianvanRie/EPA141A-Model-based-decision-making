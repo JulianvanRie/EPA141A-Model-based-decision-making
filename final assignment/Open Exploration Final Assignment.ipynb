{
 "cells": [
  {
   "cell_type": "code",
   "execution_count": 5,
   "id": "initial_id",
   "metadata": {
    "collapsed": true,
    "ExecuteTime": {
     "end_time": "2024-06-13T12:03:22.055640800Z",
     "start_time": "2024-06-13T12:03:22.040117700Z"
    }
   },
   "outputs": [],
   "source": [
    "import numpy as np\n",
    "import scipy as sp\n",
    "import pandas as pd\n",
    "import matplotlib.pyplot as plt\n",
    "import seaborn as sns\n",
    "import networkx as nx"
   ]
  },
  {
   "cell_type": "code",
   "execution_count": 13,
   "outputs": [],
   "source": [
    "from ema_workbench import (\n",
    "    Model,\n",
    "    Policy,\n",
    "    ema_logging,\n",
    "    SequentialEvaluator,\n",
    "    MultiprocessingEvaluator,\n",
    ")\n",
    "from dike_model_function import DikeNetwork  # @UnresolvedImport\n",
    "from problem_formulation import get_model_for_problem_formulation, sum_over, sum_over_time\n",
    "from ema_workbench import save_results, load_results"
   ],
   "metadata": {
    "collapsed": false,
    "ExecuteTime": {
     "end_time": "2024-06-13T12:39:37.289731200Z",
     "start_time": "2024-06-13T12:39:37.282006500Z"
    }
   },
   "id": "56f7c1c0565bc2e7"
  },
  {
   "cell_type": "code",
   "execution_count": 7,
   "outputs": [],
   "source": [
    "ema_logging.log_to_stderr(ema_logging.INFO)\n",
    "\n",
    "# choose problem formulation number, between 0-5\n",
    "# each problem formulation has its own list of outcomes\n",
    "dike_model, planning_steps = get_model_for_problem_formulation(2)"
   ],
   "metadata": {
    "collapsed": false,
    "ExecuteTime": {
     "end_time": "2024-06-13T12:03:22.642226200Z",
     "start_time": "2024-06-13T12:03:22.518324200Z"
    }
   },
   "id": "6bd9a37af5a4c338"
  },
  {
   "cell_type": "code",
   "execution_count": 8,
   "outputs": [
    {
     "name": "stdout",
     "output_type": "stream",
     "text": [
      "CategoricalParameter('discount rate 0', [0, 1, 2, 3])\n",
      "CategoricalParameter('discount rate 1', [0, 1, 2, 3])\n",
      "CategoricalParameter('discount rate 2', [0, 1, 2, 3])\n",
      "IntegerParameter('A.0_ID flood wave shape', 0, 132, resolution=None, default=None, variable_name=['A.0_ID flood wave shape'], pff=False)\n",
      "RealParameter('A.1_Bmax', 30, 350, resolution=None, default=None, variable_name=['A.1_Bmax'], pff=False)\n",
      "RealParameter('A.1_pfail', 0, 1, resolution=None, default=None, variable_name=['A.1_pfail'], pff=False)\n",
      "CategoricalParameter('A.1_Brate', [0, 1, 2])\n",
      "RealParameter('A.2_Bmax', 30, 350, resolution=None, default=None, variable_name=['A.2_Bmax'], pff=False)\n",
      "RealParameter('A.2_pfail', 0, 1, resolution=None, default=None, variable_name=['A.2_pfail'], pff=False)\n",
      "CategoricalParameter('A.2_Brate', [0, 1, 2])\n",
      "RealParameter('A.3_Bmax', 30, 350, resolution=None, default=None, variable_name=['A.3_Bmax'], pff=False)\n",
      "RealParameter('A.3_pfail', 0, 1, resolution=None, default=None, variable_name=['A.3_pfail'], pff=False)\n",
      "CategoricalParameter('A.3_Brate', [0, 1, 2])\n",
      "RealParameter('A.4_Bmax', 30, 350, resolution=None, default=None, variable_name=['A.4_Bmax'], pff=False)\n",
      "RealParameter('A.4_pfail', 0, 1, resolution=None, default=None, variable_name=['A.4_pfail'], pff=False)\n",
      "CategoricalParameter('A.4_Brate', [0, 1, 2])\n",
      "RealParameter('A.5_Bmax', 30, 350, resolution=None, default=None, variable_name=['A.5_Bmax'], pff=False)\n",
      "RealParameter('A.5_pfail', 0, 1, resolution=None, default=None, variable_name=['A.5_pfail'], pff=False)\n",
      "CategoricalParameter('A.5_Brate', [0, 1, 2])\n"
     ]
    }
   ],
   "source": [
    "# enlisting uncertainties, their types (RealParameter/IntegerParameter/CategoricalParameter), lower boundary, and upper boundary\n",
    "import copy\n",
    "\n",
    "for unc in dike_model.uncertainties:\n",
    "    print(repr(unc))\n",
    "\n",
    "uncertainties = copy.deepcopy(dike_model.uncertainties)"
   ],
   "metadata": {
    "collapsed": false,
    "ExecuteTime": {
     "end_time": "2024-06-13T12:03:24.484424600Z",
     "start_time": "2024-06-13T12:03:24.476264700Z"
    }
   },
   "id": "4d9a9d7d96d6eaae"
  },
  {
   "cell_type": "code",
   "execution_count": 9,
   "outputs": [
    {
     "name": "stdout",
     "output_type": "stream",
     "text": [
      "IntegerParameter('0_RfR 0', 0, 1, resolution=None, default=None, variable_name=['0_RfR 0'], pff=False)\n",
      "IntegerParameter('0_RfR 1', 0, 1, resolution=None, default=None, variable_name=['0_RfR 1'], pff=False)\n",
      "IntegerParameter('0_RfR 2', 0, 1, resolution=None, default=None, variable_name=['0_RfR 2'], pff=False)\n",
      "IntegerParameter('1_RfR 0', 0, 1, resolution=None, default=None, variable_name=['1_RfR 0'], pff=False)\n",
      "IntegerParameter('1_RfR 1', 0, 1, resolution=None, default=None, variable_name=['1_RfR 1'], pff=False)\n",
      "IntegerParameter('1_RfR 2', 0, 1, resolution=None, default=None, variable_name=['1_RfR 2'], pff=False)\n",
      "IntegerParameter('2_RfR 0', 0, 1, resolution=None, default=None, variable_name=['2_RfR 0'], pff=False)\n",
      "IntegerParameter('2_RfR 1', 0, 1, resolution=None, default=None, variable_name=['2_RfR 1'], pff=False)\n",
      "IntegerParameter('2_RfR 2', 0, 1, resolution=None, default=None, variable_name=['2_RfR 2'], pff=False)\n",
      "IntegerParameter('3_RfR 0', 0, 1, resolution=None, default=None, variable_name=['3_RfR 0'], pff=False)\n",
      "IntegerParameter('3_RfR 1', 0, 1, resolution=None, default=None, variable_name=['3_RfR 1'], pff=False)\n",
      "IntegerParameter('3_RfR 2', 0, 1, resolution=None, default=None, variable_name=['3_RfR 2'], pff=False)\n",
      "IntegerParameter('4_RfR 0', 0, 1, resolution=None, default=None, variable_name=['4_RfR 0'], pff=False)\n",
      "IntegerParameter('4_RfR 1', 0, 1, resolution=None, default=None, variable_name=['4_RfR 1'], pff=False)\n",
      "IntegerParameter('4_RfR 2', 0, 1, resolution=None, default=None, variable_name=['4_RfR 2'], pff=False)\n",
      "IntegerParameter('EWS_DaysToThreat', 0, 4, resolution=None, default=None, variable_name=['EWS_DaysToThreat'], pff=False)\n",
      "IntegerParameter('A.1_DikeIncrease 0', 0, 10, resolution=None, default=None, variable_name=['A.1_DikeIncrease 0'], pff=False)\n",
      "IntegerParameter('A.1_DikeIncrease 1', 0, 10, resolution=None, default=None, variable_name=['A.1_DikeIncrease 1'], pff=False)\n",
      "IntegerParameter('A.1_DikeIncrease 2', 0, 10, resolution=None, default=None, variable_name=['A.1_DikeIncrease 2'], pff=False)\n",
      "IntegerParameter('A.2_DikeIncrease 0', 0, 10, resolution=None, default=None, variable_name=['A.2_DikeIncrease 0'], pff=False)\n",
      "IntegerParameter('A.2_DikeIncrease 1', 0, 10, resolution=None, default=None, variable_name=['A.2_DikeIncrease 1'], pff=False)\n",
      "IntegerParameter('A.2_DikeIncrease 2', 0, 10, resolution=None, default=None, variable_name=['A.2_DikeIncrease 2'], pff=False)\n",
      "IntegerParameter('A.3_DikeIncrease 0', 0, 10, resolution=None, default=None, variable_name=['A.3_DikeIncrease 0'], pff=False)\n",
      "IntegerParameter('A.3_DikeIncrease 1', 0, 10, resolution=None, default=None, variable_name=['A.3_DikeIncrease 1'], pff=False)\n",
      "IntegerParameter('A.3_DikeIncrease 2', 0, 10, resolution=None, default=None, variable_name=['A.3_DikeIncrease 2'], pff=False)\n",
      "IntegerParameter('A.4_DikeIncrease 0', 0, 10, resolution=None, default=None, variable_name=['A.4_DikeIncrease 0'], pff=False)\n",
      "IntegerParameter('A.4_DikeIncrease 1', 0, 10, resolution=None, default=None, variable_name=['A.4_DikeIncrease 1'], pff=False)\n",
      "IntegerParameter('A.4_DikeIncrease 2', 0, 10, resolution=None, default=None, variable_name=['A.4_DikeIncrease 2'], pff=False)\n",
      "IntegerParameter('A.5_DikeIncrease 0', 0, 10, resolution=None, default=None, variable_name=['A.5_DikeIncrease 0'], pff=False)\n",
      "IntegerParameter('A.5_DikeIncrease 1', 0, 10, resolution=None, default=None, variable_name=['A.5_DikeIncrease 1'], pff=False)\n",
      "IntegerParameter('A.5_DikeIncrease 2', 0, 10, resolution=None, default=None, variable_name=['A.5_DikeIncrease 2'], pff=False)\n"
     ]
    }
   ],
   "source": [
    "# enlisting policy levers, their types (RealParameter/IntegerParameter), lower boundary, and upper boundary\n",
    "for policy in dike_model.levers:\n",
    "    print(repr(policy))\n",
    "\n",
    "levers = copy.deepcopy(dike_model.levers)"
   ],
   "metadata": {
    "collapsed": false,
    "ExecuteTime": {
     "end_time": "2024-06-13T12:03:33.486935100Z",
     "start_time": "2024-06-13T12:03:33.468656900Z"
    }
   },
   "id": "45c7029c6de20974"
  },
  {
   "cell_type": "code",
   "execution_count": 10,
   "outputs": [
    {
     "name": "stdout",
     "output_type": "stream",
     "text": [
      "ScalarOutcome('Expected Annual Damage', variable_name=('A.1_Expected Annual Damage', 'A.2_Expected Annual Damage', 'A.3_Expected Annual Damage', 'A.4_Expected Annual Damage', 'A.5_Expected Annual Damage'), function=<function sum_over at 0x000001983489F2E0>)\n",
      "ScalarOutcome('Dike Investment Costs', variable_name=('A.1_Dike Investment Costs', 'A.2_Dike Investment Costs', 'A.3_Dike Investment Costs', 'A.4_Dike Investment Costs', 'A.5_Dike Investment Costs'), function=<function sum_over at 0x000001983489F2E0>)\n",
      "ScalarOutcome('RfR Investment Costs', variable_name=('RfR Total Costs',), function=<function sum_over at 0x000001983489F2E0>)\n",
      "ScalarOutcome('Evacuation Costs', variable_name=('Expected Evacuation Costs',), function=<function sum_over at 0x000001983489F2E0>)\n",
      "ScalarOutcome('Expected Number of Deaths', variable_name=('A.1_Expected Number of Deaths', 'A.2_Expected Number of Deaths', 'A.3_Expected Number of Deaths', 'A.4_Expected Number of Deaths', 'A.5_Expected Number of Deaths'), function=<function sum_over at 0x000001983489F2E0>)\n"
     ]
    }
   ],
   "source": [
    "# enlisting outcomes\n",
    "for outcome in dike_model.outcomes:\n",
    "    print(repr(outcome))"
   ],
   "metadata": {
    "collapsed": false,
    "ExecuteTime": {
     "end_time": "2024-06-13T12:03:43.424519Z",
     "start_time": "2024-06-13T12:03:43.409389800Z"
    }
   },
   "id": "c2f64a3413e31dac"
  },
  {
   "cell_type": "code",
   "execution_count": 11,
   "outputs": [
    {
     "name": "stderr",
     "output_type": "stream",
     "text": [
      "[MainProcess/INFO] pool started with 16 workers\n",
      "[MainProcess/INFO] performing 1000 scenarios * 50 policies * 1 model(s) = 50000 experiments\n",
      "100%|████████████████████████████████████| 50000/50000 [32:47<00:00, 25.41it/s]\n",
      "[MainProcess/INFO] experiments finished\n",
      "[MainProcess/INFO] terminating pool\n"
     ]
    }
   ],
   "source": [
    "# running the model through EMA workbench\n",
    "with MultiprocessingEvaluator(dike_model) as evaluator:\n",
    "    results = evaluator.perform_experiments(scenarios=1000, policies=50)"
   ],
   "metadata": {
    "collapsed": false,
    "ExecuteTime": {
     "end_time": "2024-06-13T12:38:17.469269400Z",
     "start_time": "2024-06-13T12:04:43.617397Z"
    }
   },
   "id": "e52dce7c149d86a9"
  },
  {
   "cell_type": "code",
   "execution_count": 14,
   "outputs": [
    {
     "name": "stderr",
     "output_type": "stream",
     "text": [
      "[MainProcess/INFO] results saved successfully to C:\\Users\\svenk\\Documents\\GitHub\\EPA141A-Model-based-decision-making\\final assignment\\data\\runs\\open_exploration_1000sc_50pol.tar.gz\n"
     ]
    }
   ],
   "source": [
    "save_results(results, 'data/runs/open_exploration_1000sc_50pol.tar.gz')"
   ],
   "metadata": {
    "collapsed": false,
    "ExecuteTime": {
     "end_time": "2024-06-13T12:39:42.711383Z",
     "start_time": "2024-06-13T12:39:40.431756Z"
    }
   },
   "id": "d911e806e70cc442"
  },
  {
   "cell_type": "code",
   "execution_count": 16,
   "outputs": [
    {
     "name": "stderr",
     "output_type": "stream",
     "text": [
      "[MainProcess/INFO] results loaded successfully from C:\\Users\\svenk\\Documents\\GitHub\\EPA141A-Model-based-decision-making\\final assignment\\data\\runs\\open_exploration_1000sc_50pol.tar.gz\n"
     ]
    }
   ],
   "source": [
    "results = load_results('data/runs/open_exploration_1000sc_50pol.tar.gz')"
   ],
   "metadata": {
    "collapsed": false,
    "ExecuteTime": {
     "end_time": "2024-06-13T12:41:15.046374900Z",
     "start_time": "2024-06-13T12:41:14.214376800Z"
    }
   },
   "id": "617c3b4b66d9f9ce"
  },
  {
   "cell_type": "code",
   "execution_count": 17,
   "outputs": [
    {
     "name": "stdout",
     "output_type": "stream",
     "text": [
      "dict_keys(['Expected Annual Damage', 'Dike Investment Costs', 'RfR Investment Costs', 'Evacuation Costs', 'Expected Number of Deaths'])\n"
     ]
    },
    {
     "data": {
      "text/plain": "       A.0_ID flood wave shape    A.1_Bmax A.1_Brate  A.1_pfail    A.2_Bmax  \\\n0                           69  195.819580       1.5   0.509200   58.582759   \n1                          118   63.313005       1.5   0.319935  318.693829   \n2                           88  120.791806       1.5   0.831240  149.008392   \n3                           32  249.056112       1.5   0.446656  280.076100   \n4                            1  320.169894       1.5   0.067225  347.892683   \n...                        ...         ...       ...        ...         ...   \n49995                        9  205.111630       1.5   0.096462  243.477795   \n49996                      109  285.718645      10.0   0.818820  145.565474   \n49997                       74  104.702273       1.0   0.816124  229.958898   \n49998                       53  172.095581      10.0   0.762072  290.058421   \n49999                      102  279.313744       1.5   0.203471  183.902929   \n\n      A.2_Brate  A.2_pfail    A.3_Bmax A.3_Brate  A.3_pfail  ...  \\\n0           1.0   0.122428   86.851916       1.5   0.741049  ...   \n1           1.5   0.463670  156.783027       1.5   0.339027  ...   \n2           1.5   0.995251  300.507241       1.0   0.782059  ...   \n3          10.0   0.621526  220.202172       1.0   0.953604  ...   \n4          10.0   0.766375  180.894541       1.0   0.858160  ...   \n...         ...        ...         ...       ...        ...  ...   \n49995      10.0   0.285884  203.506519      10.0   0.961607  ...   \n49996       1.0   0.314211  133.072018       1.5   0.733095  ...   \n49997      10.0   0.235647  275.688340      10.0   0.654616  ...   \n49998       1.5   0.130571  280.038912       1.5   0.952912  ...   \n49999       1.5   0.259459  282.672923      10.0   0.040361  ...   \n\n       A.4_DikeIncrease 0 A.4_DikeIncrease 1  A.4_DikeIncrease 2  \\\n0                       6                  3                   3   \n1                       6                  3                   3   \n2                       6                  3                   3   \n3                       6                  3                   3   \n4                       6                  3                   3   \n...                   ...                ...                 ...   \n49995                   3                  5                   2   \n49996                   3                  5                   2   \n49997                   3                  5                   2   \n49998                   3                  5                   2   \n49999                   3                  5                   2   \n\n       A.5_DikeIncrease 0 A.5_DikeIncrease 1  A.5_DikeIncrease 2  \\\n0                      10                  9                   0   \n1                      10                  9                   0   \n2                      10                  9                   0   \n3                      10                  9                   0   \n4                      10                  9                   0   \n...                   ...                ...                 ...   \n49995                   1                  8                   7   \n49996                   1                  8                   7   \n49997                   1                  8                   7   \n49998                   1                  8                   7   \n49999                   1                  8                   7   \n\n      EWS_DaysToThreat scenario policy     model  \n0                    1       50      0  dikesnet  \n1                    1       51      0  dikesnet  \n2                    1       52      0  dikesnet  \n3                    1       53      0  dikesnet  \n4                    1       54      0  dikesnet  \n...                ...      ...    ...       ...  \n49995                0     1045     49  dikesnet  \n49996                0     1046     49  dikesnet  \n49997                0     1047     49  dikesnet  \n49998                0     1048     49  dikesnet  \n49999                0     1049     49  dikesnet  \n\n[50000 rows x 53 columns]",
      "text/html": "<div>\n<style scoped>\n    .dataframe tbody tr th:only-of-type {\n        vertical-align: middle;\n    }\n\n    .dataframe tbody tr th {\n        vertical-align: top;\n    }\n\n    .dataframe thead th {\n        text-align: right;\n    }\n</style>\n<table border=\"1\" class=\"dataframe\">\n  <thead>\n    <tr style=\"text-align: right;\">\n      <th></th>\n      <th>A.0_ID flood wave shape</th>\n      <th>A.1_Bmax</th>\n      <th>A.1_Brate</th>\n      <th>A.1_pfail</th>\n      <th>A.2_Bmax</th>\n      <th>A.2_Brate</th>\n      <th>A.2_pfail</th>\n      <th>A.3_Bmax</th>\n      <th>A.3_Brate</th>\n      <th>A.3_pfail</th>\n      <th>...</th>\n      <th>A.4_DikeIncrease 0</th>\n      <th>A.4_DikeIncrease 1</th>\n      <th>A.4_DikeIncrease 2</th>\n      <th>A.5_DikeIncrease 0</th>\n      <th>A.5_DikeIncrease 1</th>\n      <th>A.5_DikeIncrease 2</th>\n      <th>EWS_DaysToThreat</th>\n      <th>scenario</th>\n      <th>policy</th>\n      <th>model</th>\n    </tr>\n  </thead>\n  <tbody>\n    <tr>\n      <th>0</th>\n      <td>69</td>\n      <td>195.819580</td>\n      <td>1.5</td>\n      <td>0.509200</td>\n      <td>58.582759</td>\n      <td>1.0</td>\n      <td>0.122428</td>\n      <td>86.851916</td>\n      <td>1.5</td>\n      <td>0.741049</td>\n      <td>...</td>\n      <td>6</td>\n      <td>3</td>\n      <td>3</td>\n      <td>10</td>\n      <td>9</td>\n      <td>0</td>\n      <td>1</td>\n      <td>50</td>\n      <td>0</td>\n      <td>dikesnet</td>\n    </tr>\n    <tr>\n      <th>1</th>\n      <td>118</td>\n      <td>63.313005</td>\n      <td>1.5</td>\n      <td>0.319935</td>\n      <td>318.693829</td>\n      <td>1.5</td>\n      <td>0.463670</td>\n      <td>156.783027</td>\n      <td>1.5</td>\n      <td>0.339027</td>\n      <td>...</td>\n      <td>6</td>\n      <td>3</td>\n      <td>3</td>\n      <td>10</td>\n      <td>9</td>\n      <td>0</td>\n      <td>1</td>\n      <td>51</td>\n      <td>0</td>\n      <td>dikesnet</td>\n    </tr>\n    <tr>\n      <th>2</th>\n      <td>88</td>\n      <td>120.791806</td>\n      <td>1.5</td>\n      <td>0.831240</td>\n      <td>149.008392</td>\n      <td>1.5</td>\n      <td>0.995251</td>\n      <td>300.507241</td>\n      <td>1.0</td>\n      <td>0.782059</td>\n      <td>...</td>\n      <td>6</td>\n      <td>3</td>\n      <td>3</td>\n      <td>10</td>\n      <td>9</td>\n      <td>0</td>\n      <td>1</td>\n      <td>52</td>\n      <td>0</td>\n      <td>dikesnet</td>\n    </tr>\n    <tr>\n      <th>3</th>\n      <td>32</td>\n      <td>249.056112</td>\n      <td>1.5</td>\n      <td>0.446656</td>\n      <td>280.076100</td>\n      <td>10.0</td>\n      <td>0.621526</td>\n      <td>220.202172</td>\n      <td>1.0</td>\n      <td>0.953604</td>\n      <td>...</td>\n      <td>6</td>\n      <td>3</td>\n      <td>3</td>\n      <td>10</td>\n      <td>9</td>\n      <td>0</td>\n      <td>1</td>\n      <td>53</td>\n      <td>0</td>\n      <td>dikesnet</td>\n    </tr>\n    <tr>\n      <th>4</th>\n      <td>1</td>\n      <td>320.169894</td>\n      <td>1.5</td>\n      <td>0.067225</td>\n      <td>347.892683</td>\n      <td>10.0</td>\n      <td>0.766375</td>\n      <td>180.894541</td>\n      <td>1.0</td>\n      <td>0.858160</td>\n      <td>...</td>\n      <td>6</td>\n      <td>3</td>\n      <td>3</td>\n      <td>10</td>\n      <td>9</td>\n      <td>0</td>\n      <td>1</td>\n      <td>54</td>\n      <td>0</td>\n      <td>dikesnet</td>\n    </tr>\n    <tr>\n      <th>...</th>\n      <td>...</td>\n      <td>...</td>\n      <td>...</td>\n      <td>...</td>\n      <td>...</td>\n      <td>...</td>\n      <td>...</td>\n      <td>...</td>\n      <td>...</td>\n      <td>...</td>\n      <td>...</td>\n      <td>...</td>\n      <td>...</td>\n      <td>...</td>\n      <td>...</td>\n      <td>...</td>\n      <td>...</td>\n      <td>...</td>\n      <td>...</td>\n      <td>...</td>\n      <td>...</td>\n    </tr>\n    <tr>\n      <th>49995</th>\n      <td>9</td>\n      <td>205.111630</td>\n      <td>1.5</td>\n      <td>0.096462</td>\n      <td>243.477795</td>\n      <td>10.0</td>\n      <td>0.285884</td>\n      <td>203.506519</td>\n      <td>10.0</td>\n      <td>0.961607</td>\n      <td>...</td>\n      <td>3</td>\n      <td>5</td>\n      <td>2</td>\n      <td>1</td>\n      <td>8</td>\n      <td>7</td>\n      <td>0</td>\n      <td>1045</td>\n      <td>49</td>\n      <td>dikesnet</td>\n    </tr>\n    <tr>\n      <th>49996</th>\n      <td>109</td>\n      <td>285.718645</td>\n      <td>10.0</td>\n      <td>0.818820</td>\n      <td>145.565474</td>\n      <td>1.0</td>\n      <td>0.314211</td>\n      <td>133.072018</td>\n      <td>1.5</td>\n      <td>0.733095</td>\n      <td>...</td>\n      <td>3</td>\n      <td>5</td>\n      <td>2</td>\n      <td>1</td>\n      <td>8</td>\n      <td>7</td>\n      <td>0</td>\n      <td>1046</td>\n      <td>49</td>\n      <td>dikesnet</td>\n    </tr>\n    <tr>\n      <th>49997</th>\n      <td>74</td>\n      <td>104.702273</td>\n      <td>1.0</td>\n      <td>0.816124</td>\n      <td>229.958898</td>\n      <td>10.0</td>\n      <td>0.235647</td>\n      <td>275.688340</td>\n      <td>10.0</td>\n      <td>0.654616</td>\n      <td>...</td>\n      <td>3</td>\n      <td>5</td>\n      <td>2</td>\n      <td>1</td>\n      <td>8</td>\n      <td>7</td>\n      <td>0</td>\n      <td>1047</td>\n      <td>49</td>\n      <td>dikesnet</td>\n    </tr>\n    <tr>\n      <th>49998</th>\n      <td>53</td>\n      <td>172.095581</td>\n      <td>10.0</td>\n      <td>0.762072</td>\n      <td>290.058421</td>\n      <td>1.5</td>\n      <td>0.130571</td>\n      <td>280.038912</td>\n      <td>1.5</td>\n      <td>0.952912</td>\n      <td>...</td>\n      <td>3</td>\n      <td>5</td>\n      <td>2</td>\n      <td>1</td>\n      <td>8</td>\n      <td>7</td>\n      <td>0</td>\n      <td>1048</td>\n      <td>49</td>\n      <td>dikesnet</td>\n    </tr>\n    <tr>\n      <th>49999</th>\n      <td>102</td>\n      <td>279.313744</td>\n      <td>1.5</td>\n      <td>0.203471</td>\n      <td>183.902929</td>\n      <td>1.5</td>\n      <td>0.259459</td>\n      <td>282.672923</td>\n      <td>10.0</td>\n      <td>0.040361</td>\n      <td>...</td>\n      <td>3</td>\n      <td>5</td>\n      <td>2</td>\n      <td>1</td>\n      <td>8</td>\n      <td>7</td>\n      <td>0</td>\n      <td>1049</td>\n      <td>49</td>\n      <td>dikesnet</td>\n    </tr>\n  </tbody>\n</table>\n<p>50000 rows × 53 columns</p>\n</div>"
     },
     "execution_count": 17,
     "metadata": {},
     "output_type": "execute_result"
    }
   ],
   "source": [
    "# observing the simulation runs\n",
    "experiments, outcomes = results\n",
    "print(outcomes.keys())\n",
    "experiments"
   ],
   "metadata": {
    "collapsed": false,
    "ExecuteTime": {
     "end_time": "2024-06-13T12:41:16.769217100Z",
     "start_time": "2024-06-13T12:41:16.663672900Z"
    }
   },
   "id": "e81f538276d760ef"
  },
  {
   "cell_type": "code",
   "execution_count": 37,
   "outputs": [],
   "source": [
    "data = outcomes['Expected Annual Damage']\n",
    "y = data > np.percentile(data, 80)"
   ],
   "metadata": {
    "collapsed": false,
    "ExecuteTime": {
     "end_time": "2024-06-13T12:49:09.645721400Z",
     "start_time": "2024-06-13T12:49:09.627484Z"
    }
   },
   "id": "831b4b08705c6c85"
  },
  {
   "cell_type": "code",
   "execution_count": 38,
   "outputs": [
    {
     "name": "stderr",
     "output_type": "stream",
     "text": [
      "[MainProcess/INFO] column model dropped from analysis because it has only one category\n",
      "[MainProcess/INFO] 50000 points remaining, containing 10000 cases of interest\n",
      "[MainProcess/INFO] mean: 0.742, mass: 0.06, coverage: 0.2226, density: 0.742 restricted_dimensions: 3\n"
     ]
    }
   ],
   "source": [
    "from ema_workbench.analysis import prim\n",
    "\n",
    "prim_alg = prim.Prim(experiments,y, threshold=0.7)\n",
    "box1 = prim_alg.find_box()"
   ],
   "metadata": {
    "collapsed": false,
    "ExecuteTime": {
     "end_time": "2024-06-13T12:49:36.548662200Z",
     "start_time": "2024-06-13T12:49:09.877059900Z"
    }
   },
   "id": "e7cdcea7f3f828f2"
  },
  {
   "cell_type": "code",
   "execution_count": 39,
   "outputs": [
    {
     "data": {
      "text/plain": "<Figure size 640x480 with 2 Axes>",
      "image/png": "[encoded data removed]"
     },
     "metadata": {},
     "output_type": "display_data"
    }
   ],
   "source": [
    "box1.show_tradeoff(annotated=True)\n",
    "plt.show()"
   ],
   "metadata": {
    "collapsed": false,
    "ExecuteTime": {
     "end_time": "2024-06-13T12:49:36.778254Z",
     "start_time": "2024-06-13T12:49:36.545213800Z"
    }
   },
   "id": "7b20e942800f5b14"
  },
  {
   "cell_type": "code",
   "execution_count": 40,
   "outputs": [
    {
     "name": "stdout",
     "output_type": "stream",
     "text": [
      "coverage       0.2226\n",
      "density        0.7420\n",
      "id            35.0000\n",
      "k           2226.0000\n",
      "mass           0.0600\n",
      "mean           0.7420\n",
      "n           3000.0000\n",
      "res_dim        3.0000\n",
      "Name: 35, dtype: float64\n",
      "\n",
      "                                                    box 35  \\\n",
      "                                                       min   \n",
      "2_RfR 0                                                0.0   \n",
      "policy   {33, 34, 35, 4, 5, 37, 7, 10, 44, 15, 47, 48, ...   \n",
      "0_RfR 1                                                  1   \n",
      "\n",
      "                                                                           \\\n",
      "                                                       max       qp value   \n",
      "2_RfR 0                                                0.0            NaN   \n",
      "policy   {33, 34, 35, 4, 5, 37, 7, 10, 44, 15, 47, 48, ...   0.000000e+00   \n",
      "0_RfR 1                                                  1  7.423512e-248   \n",
      "\n",
      "                       \n",
      "             qp value  \n",
      "2_RfR 0  2.567941e-96  \n",
      "policy            NaN  \n",
      "0_RfR 1           NaN  \n"
     ]
    },
    {
     "name": "stderr",
     "output_type": "stream",
     "text": [
      "C:\\Users\\svenk\\AppData\\Local\\Programs\\Python\\Python312\\Lib\\site-packages\\ema_workbench\\analysis\\prim.py:501: FutureWarning: Setting an item of incompatible dtype is deprecated and will raise an error in a future version of pandas. Value '{33, 34, 35, 4, 5, 37, 7, 10, 44, 15, 47, 48, 18, 49, 20, 23, 27}' has dtype incompatible with float64, please explicitly cast to a compatible dtype first.\n",
      "  box_lim.loc[unc] = values.values.tolist() + qp_values[unc]\n",
      "C:\\Users\\svenk\\AppData\\Local\\Programs\\Python\\Python312\\Lib\\site-packages\\ema_workbench\\analysis\\prim.py:501: FutureWarning: Setting an item of incompatible dtype is deprecated and will raise an error in a future version of pandas. Value '{33, 34, 35, 4, 5, 37, 7, 10, 44, 15, 47, 48, 18, 49, 20, 23, 27}' has dtype incompatible with float64, please explicitly cast to a compatible dtype first.\n",
      "  box_lim.loc[unc] = values.values.tolist() + qp_values[unc]\n"
     ]
    },
    {
     "data": {
      "text/plain": "[None]"
     },
     "execution_count": 40,
     "metadata": {},
     "output_type": "execute_result"
    }
   ],
   "source": [
    "box1.inspect(35)"
   ],
   "metadata": {
    "collapsed": false,
    "ExecuteTime": {
     "end_time": "2024-06-13T12:49:45.158118600Z",
     "start_time": "2024-06-13T12:49:45.140828700Z"
    }
   },
   "id": "eb34401e47c234b5"
  },
  {
   "cell_type": "code",
   "execution_count": null,
   "outputs": [],
   "source": [],
   "metadata": {
    "collapsed": false
   },
   "id": "2a5fc1afb8d39e"
  }
 ],
 "metadata": {
  "kernelspec": {
   "display_name": "Python 3",
   "language": "python",
   "name": "python3"
  },
  "language_info": {
   "codemirror_mode": {
    "name": "ipython",
    "version": 2
   },
   "file_extension": ".py",
   "mimetype": "text/x-python",
   "name": "python",
   "nbconvert_exporter": "python",
   "pygments_lexer": "ipython2",
   "version": "2.7.6"
  }
 },
 "nbformat": 4,
 "nbformat_minor": 5
}
