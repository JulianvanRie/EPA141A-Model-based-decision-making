{
 "cells": [
  {
   "cell_type": "markdown",
   "metadata": {},
   "source": [
    "# EPA1361 - Model-Based Decision Making\n",
    "\n",
    "## Multi-model analysis\n",
    "\n",
    "This exercise uses a simple version of the [Lotka-Volterra predator-prey equations](https://en.wikipedia.org/wiki/Lotka%E2%80%93Volterra_equations) to show how the EMA Workbench can be used for a\n",
    "multi-model analysis, in addition to typical parametric/structural uncertainties. This will let you test the connectors provided in the Workbench for Excel, NetLogo, and Vensim / PySD; we'll also use the models for the sensitivity analysis exercise in week 3.\n",
    "\n",
    "**Assignment**\n",
    "Using the three model files provided and the Python function below, define model objects for each implementation (Excel, NetLogo, Vensim/PySD, and Python), and test them using a single ensemble. Use 50 experiments sampled from the parameters below (so that each experiment will be executed for the 4 models, for a total of 200), and retrieve outputs for the _TIME_, _predators_, and _prey_ variables.\n",
    "   * Excel and Vensim are only supported on Windows\n",
    "   * Vensim requires the DSS version of Vensim\n",
    "   * Netlogo supoprt depends on [jpype](http://jpype.readthedocs.io/en/latest/install.html) and [pynetlogo](https://pynetlogo.readthedocs.io/en/latest/). Also, if you don't have NetLogo installed, please get [NetLogo 6.3.0](https://ccl.northwestern.edu/netlogo/download.shtml)\n",
    "   * for pysd, see [its documentation](http://pysd.readthedocs.io/en/master/installation.html)\n",
    "   * If possible try to work with all model versions, but even 2 or 3 (pure python and something else should be sufficient).\n",
    "\n",
    "\n",
    "|Parameter\t|Range or value\t        |\n",
    "|-----------|--------------:|\n",
    "|prey_birth_rate    \t|0.015 – 0.035\t|\n",
    "|predation_rate|0.0005 – 0.003 \t|\n",
    "|predator_efficiency     \t|0.001 – 0.004\t    |\n",
    "|predator_loss_rate\t    |0.04 – 0.08\t    |\n",
    "|Final time\t    |365\t    |\n",
    "|dt\t    |0.25\t    |\n",
    "\n",
    "* Note that your EMA Workbench installation includes [example scripts](https://github.com/quaquel/EMAworkbench/tree/master/ema_workbench/examples) for the different connectors. The different model objects follow a similar syntax but will need to be slightly adjusted depending on the software (e.g. to specify the NetLogo run length or the sheet name in Excel).\n",
    "  * This [tutorial](https://emaworkbench.readthedocs.io/en/latest/basic_tutorial.html) also shows a simple model in Python, Vensim and Excel connected to the workbench.\n",
    "\n",
    "* These model objects can be used with a replication functionality (for instance to test the effect of stochastic uncertainty in a NetLogo model), which repeats a given experiment over multiple replications. You can use a single replication in this exercise as the models are not stochastic. By default, each outcome array will then have a shape of (# experiments, # replications, # time steps). Try adapting the outcome arrays so that they can be used with the _lines_ plotting function of the Workbench, and plot the results grouped by model.\n",
    "\n",
    "* To check the graphical results, find the maximum absolute error of the time series you obtained for the _prey_ variable in the Excel, NetLogo, and Vensim/PySD models, relative to the Python function."
   ]
  },
  {
   "cell_type": "code",
   "execution_count": 25,
   "outputs": [],
   "source": [
    "# Some imports you may need\n",
    "import numpy as np\n",
    "import matplotlib.pyplot as plt\n",
    "\n",
    "from ema_workbench import (Model, RealParameter, TimeSeriesOutcome, perform_experiments, ema_logging)\n",
    "\n",
    "from ema_workbench.connectors.netlogo import NetLogoModel\n",
    "from ema_workbench.connectors.excel import ExcelModel\n",
    "from ema_workbench.connectors.pysd_connector import PysdModel\n",
    "\n",
    "from ema_workbench import Samplers\n",
    "\n",
    "from ema_workbench.analysis.plotting import lines, Density"
   ],
   "metadata": {
    "collapsed": false,
    "ExecuteTime": {
     "end_time": "2024-05-09T09:46:55.280850600Z",
     "start_time": "2024-05-09T09:46:55.275609200Z"
    }
   }
  },
  {
   "cell_type": "code",
   "execution_count": 2,
   "outputs": [],
   "source": [
    "# Import the Python function\n",
    "from model.pred_prey import PredPrey"
   ],
   "metadata": {
    "collapsed": false,
    "ExecuteTime": {
     "end_time": "2024-05-09T08:53:09.668150700Z",
     "start_time": "2024-05-09T08:53:09.646110400Z"
    }
   }
  },
  {
   "cell_type": "code",
   "outputs": [],
   "source": [
    "import os\n",
    "os.environ[\"JAVA_HOME\"] = 'C:/Program Files/NetLogo 6.3.0/runtime/bin/server/'"
   ],
   "metadata": {
    "collapsed": false,
    "ExecuteTime": {
     "end_time": "2024-05-09T09:46:09.024836600Z",
     "start_time": "2024-05-09T09:46:09.016397100Z"
    }
   },
   "execution_count": 22
  },
  {
   "cell_type": "code",
   "outputs": [
    {
     "name": "stderr",
     "output_type": "stream",
     "text": [
      "[MainProcess/INFO] performing 50 scenarios * 1 policies * 4 model(s) = 200 experiments\n",
      "\n",
      "  0%|                                                  | 0/200 [00:00<?, ?it/s]\u001B[A[MainProcess/INFO] performing experiments sequentially\n",
      "\n",
      " 10%|████                                    | 20/200 [00:00<00:00, 195.57it/s]\u001B[A\n",
      " 20%|████████▏                               | 41/200 [00:00<00:00, 202.53it/s]\u001B[AC:\\Users\\julia\\PycharmProjects\\EPA141A-Model-based-decision-making\\.venv\\Lib\\site-packages\\pynetlogo\\core.py:186: UserWarning: netlogo home not found\n",
      "  warnings.warn(\"netlogo home not found\")\n",
      "[MainProcess/ERROR] expected str, bytes or os.PathLike object, not NoneType\n",
      "Traceback (most recent call last):\n",
      "  File \"C:\\Users\\julia\\PycharmProjects\\EPA141A-Model-based-decision-making\\.venv\\Lib\\site-packages\\ema_workbench\\em_framework\\experiment_runner.py\", line 92, in run_experiment\n",
      "    model.run_model(scenario, policy)\n",
      "  File \"C:\\Users\\julia\\PycharmProjects\\EPA141A-Model-based-decision-making\\.venv\\Lib\\site-packages\\ema_workbench\\util\\ema_logging.py\", line 153, in wrapper\n",
      "    res = func(*args, **kwargs)\n",
      "          ^^^^^^^^^^^^^^^^^^^^^\n",
      "  File \"C:\\Users\\julia\\PycharmProjects\\EPA141A-Model-based-decision-making\\.venv\\Lib\\site-packages\\ema_workbench\\em_framework\\model.py\", line 307, in run_model\n",
      "    super().run_model(scenario, policy)\n",
      "  File \"C:\\Users\\julia\\PycharmProjects\\EPA141A-Model-based-decision-making\\.venv\\Lib\\site-packages\\ema_workbench\\util\\ema_logging.py\", line 153, in wrapper\n",
      "    res = func(*args, **kwargs)\n",
      "          ^^^^^^^^^^^^^^^^^^^^^\n",
      "  File \"C:\\Users\\julia\\PycharmProjects\\EPA141A-Model-based-decision-making\\.venv\\Lib\\site-packages\\ema_workbench\\em_framework\\model.py\", line 184, in run_model\n",
      "    self.model_init(policy)\n",
      "  File \"C:\\Users\\julia\\PycharmProjects\\EPA141A-Model-based-decision-making\\.venv\\Lib\\site-packages\\ema_workbench\\util\\ema_logging.py\", line 153, in wrapper\n",
      "    res = func(*args, **kwargs)\n",
      "          ^^^^^^^^^^^^^^^^^^^^^\n",
      "  File \"C:\\Users\\julia\\PycharmProjects\\EPA141A-Model-based-decision-making\\.venv\\Lib\\site-packages\\ema_workbench\\connectors\\netlogo.py\", line 135, in model_init\n",
      "    self.netlogo = pynetlogo.NetLogoLink(\n",
      "                   ^^^^^^^^^^^^^^^^^^^^^^\n",
      "  File \"C:\\Users\\julia\\PycharmProjects\\EPA141A-Model-based-decision-making\\.venv\\Lib\\site-packages\\pynetlogo\\core.py\", line 194, in __init__\n",
      "    jars = find_jars(netlogo_home)\n",
      "           ^^^^^^^^^^^^^^^^^^^^^^^\n",
      "  File \"C:\\Users\\julia\\PycharmProjects\\EPA141A-Model-based-decision-making\\.venv\\Lib\\site-packages\\pynetlogo\\core.py\", line 77, in find_jars\n",
      "    for root, _, files in os.walk(path):\n",
      "  File \"<frozen os>\", line 344, in walk\n",
      "TypeError: expected str, bytes or os.PathLike object, not NoneType\n"
     ]
    },
    {
     "ename": "EMAError",
     "evalue": "Exception in run_model\nCaused by: TypeError: expected str, bytes or os.PathLike object, not NoneType",
     "output_type": "error",
     "traceback": [
      "\u001B[1;31m---------------------------------------------------------------------------\u001B[0m",
      "\u001B[1;31mTypeError\u001B[0m                                 Traceback (most recent call last)",
      "File \u001B[1;32m~\\PycharmProjects\\EPA141A-Model-based-decision-making\\.venv\\Lib\\site-packages\\ema_workbench\\em_framework\\experiment_runner.py:92\u001B[0m, in \u001B[0;36mExperimentRunner.run_experiment\u001B[1;34m(self, experiment)\u001B[0m\n\u001B[0;32m     91\u001B[0m \u001B[38;5;28;01mtry\u001B[39;00m:\n\u001B[1;32m---> 92\u001B[0m     \u001B[43mmodel\u001B[49m\u001B[38;5;241;43m.\u001B[39;49m\u001B[43mrun_model\u001B[49m\u001B[43m(\u001B[49m\u001B[43mscenario\u001B[49m\u001B[43m,\u001B[49m\u001B[43m \u001B[49m\u001B[43mpolicy\u001B[49m\u001B[43m)\u001B[49m\n\u001B[0;32m     93\u001B[0m \u001B[38;5;28;01mexcept\u001B[39;00m CaseError \u001B[38;5;28;01mas\u001B[39;00m e:\n",
      "File \u001B[1;32m~\\PycharmProjects\\EPA141A-Model-based-decision-making\\.venv\\Lib\\site-packages\\ema_workbench\\util\\ema_logging.py:153\u001B[0m, in \u001B[0;36mmethod_logger.<locals>.real_decorator.<locals>.wrapper\u001B[1;34m(*args, **kwargs)\u001B[0m\n\u001B[0;32m    152\u001B[0m logger\u001B[38;5;241m.\u001B[39mdebug(\u001B[38;5;124mf\u001B[39m\u001B[38;5;124m\"\u001B[39m\u001B[38;5;124mcalling \u001B[39m\u001B[38;5;132;01m{\u001B[39;00mfunc\u001B[38;5;241m.\u001B[39m\u001B[38;5;18m__name__\u001B[39m\u001B[38;5;132;01m}\u001B[39;00m\u001B[38;5;124m on \u001B[39m\u001B[38;5;132;01m{\u001B[39;00mclassname\u001B[38;5;132;01m}\u001B[39;00m\u001B[38;5;124m\"\u001B[39m)\n\u001B[1;32m--> 153\u001B[0m res \u001B[38;5;241m=\u001B[39m \u001B[43mfunc\u001B[49m\u001B[43m(\u001B[49m\u001B[38;5;241;43m*\u001B[39;49m\u001B[43margs\u001B[49m\u001B[43m,\u001B[49m\u001B[43m \u001B[49m\u001B[38;5;241;43m*\u001B[39;49m\u001B[38;5;241;43m*\u001B[39;49m\u001B[43mkwargs\u001B[49m\u001B[43m)\u001B[49m\n\u001B[0;32m    154\u001B[0m logger\u001B[38;5;241m.\u001B[39mdebug(\u001B[38;5;124mf\u001B[39m\u001B[38;5;124m\"\u001B[39m\u001B[38;5;124mcompleted calling \u001B[39m\u001B[38;5;132;01m{\u001B[39;00mfunc\u001B[38;5;241m.\u001B[39m\u001B[38;5;18m__name__\u001B[39m\u001B[38;5;132;01m}\u001B[39;00m\u001B[38;5;124m on \u001B[39m\u001B[38;5;132;01m{\u001B[39;00mclassname\u001B[38;5;132;01m}\u001B[39;00m\u001B[38;5;124m\"\u001B[39m)\n",
      "File \u001B[1;32m~\\PycharmProjects\\EPA141A-Model-based-decision-making\\.venv\\Lib\\site-packages\\ema_workbench\\em_framework\\model.py:307\u001B[0m, in \u001B[0;36mReplicator.run_model\u001B[1;34m(self, scenario, policy)\u001B[0m\n\u001B[0;32m    299\u001B[0m \u001B[38;5;250m\u001B[39m\u001B[38;5;124;03m\"\"\"Method for running an instantiated model structure.\u001B[39;00m\n\u001B[0;32m    300\u001B[0m \n\u001B[0;32m    301\u001B[0m \u001B[38;5;124;03mParameters\u001B[39;00m\n\u001B[1;32m   (...)\u001B[0m\n\u001B[0;32m    305\u001B[0m \n\u001B[0;32m    306\u001B[0m \u001B[38;5;124;03m\"\"\"\u001B[39;00m\n\u001B[1;32m--> 307\u001B[0m \u001B[38;5;28;43msuper\u001B[39;49m\u001B[43m(\u001B[49m\u001B[43m)\u001B[49m\u001B[38;5;241;43m.\u001B[39;49m\u001B[43mrun_model\u001B[49m\u001B[43m(\u001B[49m\u001B[43mscenario\u001B[49m\u001B[43m,\u001B[49m\u001B[43m \u001B[49m\u001B[43mpolicy\u001B[49m\u001B[43m)\u001B[49m\n\u001B[0;32m    309\u001B[0m constants \u001B[38;5;241m=\u001B[39m {c\u001B[38;5;241m.\u001B[39mname: c\u001B[38;5;241m.\u001B[39mvalue \u001B[38;5;28;01mfor\u001B[39;00m c \u001B[38;5;129;01min\u001B[39;00m \u001B[38;5;28mself\u001B[39m\u001B[38;5;241m.\u001B[39mconstants}\n",
      "File \u001B[1;32m~\\PycharmProjects\\EPA141A-Model-based-decision-making\\.venv\\Lib\\site-packages\\ema_workbench\\util\\ema_logging.py:153\u001B[0m, in \u001B[0;36mmethod_logger.<locals>.real_decorator.<locals>.wrapper\u001B[1;34m(*args, **kwargs)\u001B[0m\n\u001B[0;32m    152\u001B[0m logger\u001B[38;5;241m.\u001B[39mdebug(\u001B[38;5;124mf\u001B[39m\u001B[38;5;124m\"\u001B[39m\u001B[38;5;124mcalling \u001B[39m\u001B[38;5;132;01m{\u001B[39;00mfunc\u001B[38;5;241m.\u001B[39m\u001B[38;5;18m__name__\u001B[39m\u001B[38;5;132;01m}\u001B[39;00m\u001B[38;5;124m on \u001B[39m\u001B[38;5;132;01m{\u001B[39;00mclassname\u001B[38;5;132;01m}\u001B[39;00m\u001B[38;5;124m\"\u001B[39m)\n\u001B[1;32m--> 153\u001B[0m res \u001B[38;5;241m=\u001B[39m \u001B[43mfunc\u001B[49m\u001B[43m(\u001B[49m\u001B[38;5;241;43m*\u001B[39;49m\u001B[43margs\u001B[49m\u001B[43m,\u001B[49m\u001B[43m \u001B[49m\u001B[38;5;241;43m*\u001B[39;49m\u001B[38;5;241;43m*\u001B[39;49m\u001B[43mkwargs\u001B[49m\u001B[43m)\u001B[49m\n\u001B[0;32m    154\u001B[0m logger\u001B[38;5;241m.\u001B[39mdebug(\u001B[38;5;124mf\u001B[39m\u001B[38;5;124m\"\u001B[39m\u001B[38;5;124mcompleted calling \u001B[39m\u001B[38;5;132;01m{\u001B[39;00mfunc\u001B[38;5;241m.\u001B[39m\u001B[38;5;18m__name__\u001B[39m\u001B[38;5;132;01m}\u001B[39;00m\u001B[38;5;124m on \u001B[39m\u001B[38;5;132;01m{\u001B[39;00mclassname\u001B[38;5;132;01m}\u001B[39;00m\u001B[38;5;124m\"\u001B[39m)\n",
      "File \u001B[1;32m~\\PycharmProjects\\EPA141A-Model-based-decision-making\\.venv\\Lib\\site-packages\\ema_workbench\\em_framework\\model.py:184\u001B[0m, in \u001B[0;36mAbstractModel.run_model\u001B[1;34m(self, scenario, policy)\u001B[0m\n\u001B[0;32m    183\u001B[0m \u001B[38;5;28;01mif\u001B[39;00m \u001B[38;5;129;01mnot\u001B[39;00m \u001B[38;5;28mself\u001B[39m\u001B[38;5;241m.\u001B[39minitialized(policy):\n\u001B[1;32m--> 184\u001B[0m     \u001B[38;5;28;43mself\u001B[39;49m\u001B[38;5;241;43m.\u001B[39;49m\u001B[43mmodel_init\u001B[49m\u001B[43m(\u001B[49m\u001B[43mpolicy\u001B[49m\u001B[43m)\u001B[49m\n\u001B[0;32m    186\u001B[0m \u001B[38;5;28mself\u001B[39m\u001B[38;5;241m.\u001B[39m_transform(scenario, \u001B[38;5;28mself\u001B[39m\u001B[38;5;241m.\u001B[39muncertainties)\n",
      "File \u001B[1;32m~\\PycharmProjects\\EPA141A-Model-based-decision-making\\.venv\\Lib\\site-packages\\ema_workbench\\util\\ema_logging.py:153\u001B[0m, in \u001B[0;36mmethod_logger.<locals>.real_decorator.<locals>.wrapper\u001B[1;34m(*args, **kwargs)\u001B[0m\n\u001B[0;32m    152\u001B[0m logger\u001B[38;5;241m.\u001B[39mdebug(\u001B[38;5;124mf\u001B[39m\u001B[38;5;124m\"\u001B[39m\u001B[38;5;124mcalling \u001B[39m\u001B[38;5;132;01m{\u001B[39;00mfunc\u001B[38;5;241m.\u001B[39m\u001B[38;5;18m__name__\u001B[39m\u001B[38;5;132;01m}\u001B[39;00m\u001B[38;5;124m on \u001B[39m\u001B[38;5;132;01m{\u001B[39;00mclassname\u001B[38;5;132;01m}\u001B[39;00m\u001B[38;5;124m\"\u001B[39m)\n\u001B[1;32m--> 153\u001B[0m res \u001B[38;5;241m=\u001B[39m \u001B[43mfunc\u001B[49m\u001B[43m(\u001B[49m\u001B[38;5;241;43m*\u001B[39;49m\u001B[43margs\u001B[49m\u001B[43m,\u001B[49m\u001B[43m \u001B[49m\u001B[38;5;241;43m*\u001B[39;49m\u001B[38;5;241;43m*\u001B[39;49m\u001B[43mkwargs\u001B[49m\u001B[43m)\u001B[49m\n\u001B[0;32m    154\u001B[0m logger\u001B[38;5;241m.\u001B[39mdebug(\u001B[38;5;124mf\u001B[39m\u001B[38;5;124m\"\u001B[39m\u001B[38;5;124mcompleted calling \u001B[39m\u001B[38;5;132;01m{\u001B[39;00mfunc\u001B[38;5;241m.\u001B[39m\u001B[38;5;18m__name__\u001B[39m\u001B[38;5;132;01m}\u001B[39;00m\u001B[38;5;124m on \u001B[39m\u001B[38;5;132;01m{\u001B[39;00mclassname\u001B[38;5;132;01m}\u001B[39;00m\u001B[38;5;124m\"\u001B[39m)\n",
      "File \u001B[1;32m~\\PycharmProjects\\EPA141A-Model-based-decision-making\\.venv\\Lib\\site-packages\\ema_workbench\\connectors\\netlogo.py:135\u001B[0m, in \u001B[0;36mBaseNetLogoModel.model_init\u001B[1;34m(self, policy)\u001B[0m\n\u001B[0;32m    134\u001B[0m _logger\u001B[38;5;241m.\u001B[39mdebug(\u001B[38;5;124m\"\u001B[39m\u001B[38;5;124mtrying to start NetLogo\u001B[39m\u001B[38;5;124m\"\u001B[39m)\n\u001B[1;32m--> 135\u001B[0m \u001B[38;5;28mself\u001B[39m\u001B[38;5;241m.\u001B[39mnetlogo \u001B[38;5;241m=\u001B[39m \u001B[43mpynetlogo\u001B[49m\u001B[38;5;241;43m.\u001B[39;49m\u001B[43mNetLogoLink\u001B[49m\u001B[43m(\u001B[49m\n\u001B[0;32m    136\u001B[0m \u001B[43m    \u001B[49m\u001B[43mnetlogo_home\u001B[49m\u001B[38;5;241;43m=\u001B[39;49m\u001B[38;5;28;43mself\u001B[39;49m\u001B[38;5;241;43m.\u001B[39;49m\u001B[43mnetlogo_home\u001B[49m\u001B[43m,\u001B[49m\n\u001B[0;32m    137\u001B[0m \u001B[43m    \u001B[49m\u001B[43mjvm_path\u001B[49m\u001B[38;5;241;43m=\u001B[39;49m\u001B[38;5;28;43mself\u001B[39;49m\u001B[38;5;241;43m.\u001B[39;49m\u001B[43mjvm_path\u001B[49m\u001B[43m,\u001B[49m\n\u001B[0;32m    138\u001B[0m \u001B[43m    \u001B[49m\u001B[43mgui\u001B[49m\u001B[38;5;241;43m=\u001B[39;49m\u001B[38;5;28;43mself\u001B[39;49m\u001B[38;5;241;43m.\u001B[39;49m\u001B[43mgui\u001B[49m\u001B[43m,\u001B[49m\n\u001B[0;32m    139\u001B[0m \u001B[43m    \u001B[49m\u001B[43mjvmargs\u001B[49m\u001B[38;5;241;43m=\u001B[39;49m\u001B[38;5;28;43mself\u001B[39;49m\u001B[38;5;241;43m.\u001B[39;49m\u001B[43mjvm_args\u001B[49m\u001B[43m,\u001B[49m\n\u001B[0;32m    140\u001B[0m \u001B[43m\u001B[49m\u001B[43m)\u001B[49m\n\u001B[0;32m    141\u001B[0m _logger\u001B[38;5;241m.\u001B[39mdebug(\u001B[38;5;124m\"\u001B[39m\u001B[38;5;124mnetlogo started\u001B[39m\u001B[38;5;124m\"\u001B[39m)\n",
      "File \u001B[1;32m~\\PycharmProjects\\EPA141A-Model-based-decision-making\\.venv\\Lib\\site-packages\\pynetlogo\\core.py:194\u001B[0m, in \u001B[0;36mNetLogoLink.__init__\u001B[1;34m(self, gui, thd, netlogo_home, jvm_path, jvmargs)\u001B[0m\n\u001B[0;32m    193\u001B[0m \u001B[38;5;28;01mif\u001B[39;00m \u001B[38;5;129;01mnot\u001B[39;00m jpype\u001B[38;5;241m.\u001B[39misJVMStarted():\n\u001B[1;32m--> 194\u001B[0m     jars \u001B[38;5;241m=\u001B[39m \u001B[43mfind_jars\u001B[49m\u001B[43m(\u001B[49m\u001B[43mnetlogo_home\u001B[49m\u001B[43m)\u001B[49m\n\u001B[0;32m    195\u001B[0m     jars\u001B[38;5;241m.\u001B[39mappend(os\u001B[38;5;241m.\u001B[39mpath\u001B[38;5;241m.\u001B[39mjoin(PYNETLOGO_HOME, \u001B[38;5;124m\"\u001B[39m\u001B[38;5;124mjava\u001B[39m\u001B[38;5;124m\"\u001B[39m, \u001B[38;5;124m\"\u001B[39m\u001B[38;5;124mnetlogolink.jar\u001B[39m\u001B[38;5;124m\"\u001B[39m))\n",
      "File \u001B[1;32m~\\PycharmProjects\\EPA141A-Model-based-decision-making\\.venv\\Lib\\site-packages\\pynetlogo\\core.py:77\u001B[0m, in \u001B[0;36mfind_jars\u001B[1;34m(path)\u001B[0m\n\u001B[0;32m     76\u001B[0m jars \u001B[38;5;241m=\u001B[39m []\n\u001B[1;32m---> 77\u001B[0m \u001B[43m\u001B[49m\u001B[38;5;28;43;01mfor\u001B[39;49;00m\u001B[43m \u001B[49m\u001B[43mroot\u001B[49m\u001B[43m,\u001B[49m\u001B[43m \u001B[49m\u001B[43m_\u001B[49m\u001B[43m,\u001B[49m\u001B[43m \u001B[49m\u001B[43mfiles\u001B[49m\u001B[43m \u001B[49m\u001B[38;5;129;43;01min\u001B[39;49;00m\u001B[43m \u001B[49m\u001B[43mos\u001B[49m\u001B[38;5;241;43m.\u001B[39;49m\u001B[43mwalk\u001B[49m\u001B[43m(\u001B[49m\u001B[43mpath\u001B[49m\u001B[43m)\u001B[49m\u001B[43m:\u001B[49m\n\u001B[0;32m     78\u001B[0m \u001B[43m    \u001B[49m\u001B[38;5;28;43;01mfor\u001B[39;49;00m\u001B[43m \u001B[49m\u001B[43mfile\u001B[49m\u001B[43m \u001B[49m\u001B[38;5;129;43;01min\u001B[39;49;00m\u001B[43m \u001B[49m\u001B[43mfiles\u001B[49m\u001B[43m:\u001B[49m\u001B[43m  \u001B[49m\u001B[38;5;66;43;03m# @ReservedAssignment\u001B[39;49;00m\n",
      "File \u001B[1;32m<frozen os>:344\u001B[0m, in \u001B[0;36mwalk\u001B[1;34m(top, topdown, onerror, followlinks)\u001B[0m\n",
      "\u001B[1;31mTypeError\u001B[0m: expected str, bytes or os.PathLike object, not NoneType",
      "\nDuring handling of the above exception, another exception occurred:\n",
      "\u001B[1;31mEMAError\u001B[0m                                  Traceback (most recent call last)",
      "Cell \u001B[1;32mIn[27], line 40\u001B[0m\n\u001B[0;32m     37\u001B[0m nr_experiments \u001B[38;5;241m=\u001B[39m \u001B[38;5;241m50\u001B[39m\n\u001B[0;32m     39\u001B[0m \u001B[38;5;66;03m#Using Latin Hypercube sampling\u001B[39;00m\n\u001B[1;32m---> 40\u001B[0m experiments, outcomes \u001B[38;5;241m=\u001B[39m \u001B[43mperform_experiments\u001B[49m\u001B[43m(\u001B[49m\u001B[43m[\u001B[49m\u001B[43mpy_model\u001B[49m\u001B[43m,\u001B[49m\u001B[43m \u001B[49m\u001B[43mnl_model\u001B[49m\u001B[43m,\u001B[49m\u001B[43m \u001B[49m\u001B[43mexcel_model\u001B[49m\u001B[43m,\u001B[49m\u001B[43m \u001B[49m\u001B[43mpysd_model\u001B[49m\u001B[43m]\u001B[49m\u001B[43m,\u001B[49m\n\u001B[0;32m     41\u001B[0m \u001B[43m                                  \u001B[49m\u001B[43mnr_experiments\u001B[49m\u001B[43m,\u001B[49m\u001B[43m \u001B[49m\u001B[43muncertainty_sampling\u001B[49m\u001B[38;5;241;43m=\u001B[39;49m\u001B[43mSamplers\u001B[49m\u001B[38;5;241;43m.\u001B[39;49m\u001B[43mLHS\u001B[49m\u001B[43m)\u001B[49m\n",
      "File \u001B[1;32m~\\PycharmProjects\\EPA141A-Model-based-decision-making\\.venv\\Lib\\site-packages\\ema_workbench\\em_framework\\evaluators.py:406\u001B[0m, in \u001B[0;36mperform_experiments\u001B[1;34m(models, scenarios, policies, evaluator, reporting_interval, reporting_frequency, uncertainty_union, lever_union, outcome_union, uncertainty_sampling, lever_sampling, callback, return_callback, combine, log_progress, **kwargs)\u001B[0m\n\u001B[0;32m    403\u001B[0m \u001B[38;5;28;01mif\u001B[39;00m \u001B[38;5;129;01mnot\u001B[39;00m evaluator:\n\u001B[0;32m    404\u001B[0m     evaluator \u001B[38;5;241m=\u001B[39m SequentialEvaluator(models)\n\u001B[1;32m--> 406\u001B[0m \u001B[43mevaluator\u001B[49m\u001B[38;5;241;43m.\u001B[39;49m\u001B[43mevaluate_experiments\u001B[49m\u001B[43m(\u001B[49m\u001B[43mscenarios\u001B[49m\u001B[43m,\u001B[49m\u001B[43m \u001B[49m\u001B[43mpolicies\u001B[49m\u001B[43m,\u001B[49m\u001B[43m \u001B[49m\u001B[43mcallback\u001B[49m\u001B[43m,\u001B[49m\u001B[43m \u001B[49m\u001B[43mcombine\u001B[49m\u001B[38;5;241;43m=\u001B[39;49m\u001B[43mcombine\u001B[49m\u001B[43m,\u001B[49m\u001B[43m \u001B[49m\u001B[38;5;241;43m*\u001B[39;49m\u001B[38;5;241;43m*\u001B[39;49m\u001B[43mkwargs\u001B[49m\u001B[43m)\u001B[49m\n\u001B[0;32m    408\u001B[0m \u001B[38;5;28;01mif\u001B[39;00m callback\u001B[38;5;241m.\u001B[39mi \u001B[38;5;241m!=\u001B[39m nr_of_exp:\n\u001B[0;32m    409\u001B[0m     \u001B[38;5;28;01mraise\u001B[39;00m EMAError(\n\u001B[0;32m    410\u001B[0m         \u001B[38;5;124mf\u001B[39m\u001B[38;5;124m\"\u001B[39m\u001B[38;5;124mSome fatal error has occurred while running the experiments, not all runs have completed. Expected \u001B[39m\u001B[38;5;132;01m{\u001B[39;00mnr_of_exp\u001B[38;5;132;01m}\u001B[39;00m\u001B[38;5;124m, got \u001B[39m\u001B[38;5;132;01m{\u001B[39;00mcallback\u001B[38;5;241m.\u001B[39mi\u001B[38;5;132;01m}\u001B[39;00m\u001B[38;5;124m\"\u001B[39m\n\u001B[0;32m    411\u001B[0m     )\n",
      "File \u001B[1;32m~\\PycharmProjects\\EPA141A-Model-based-decision-making\\.venv\\Lib\\site-packages\\ema_workbench\\em_framework\\evaluators.py:291\u001B[0m, in \u001B[0;36mSequentialEvaluator.evaluate_experiments\u001B[1;34m(self, scenarios, policies, callback, combine)\u001B[0m\n\u001B[0;32m    288\u001B[0m runner \u001B[38;5;241m=\u001B[39m ExperimentRunner(models)\n\u001B[0;32m    290\u001B[0m \u001B[38;5;28;01mfor\u001B[39;00m experiment \u001B[38;5;129;01min\u001B[39;00m ex_gen:\n\u001B[1;32m--> 291\u001B[0m     outcomes \u001B[38;5;241m=\u001B[39m \u001B[43mrunner\u001B[49m\u001B[38;5;241;43m.\u001B[39;49m\u001B[43mrun_experiment\u001B[49m\u001B[43m(\u001B[49m\u001B[43mexperiment\u001B[49m\u001B[43m)\u001B[49m\n\u001B[0;32m    292\u001B[0m     callback(experiment, outcomes)\n\u001B[0;32m    293\u001B[0m runner\u001B[38;5;241m.\u001B[39mcleanup()\n",
      "File \u001B[1;32m~\\PycharmProjects\\EPA141A-Model-based-decision-making\\.venv\\Lib\\site-packages\\ema_workbench\\util\\ema_logging.py:153\u001B[0m, in \u001B[0;36mmethod_logger.<locals>.real_decorator.<locals>.wrapper\u001B[1;34m(*args, **kwargs)\u001B[0m\n\u001B[0;32m    148\u001B[0m \u001B[38;5;129m@wraps\u001B[39m(func)\n\u001B[0;32m    149\u001B[0m \u001B[38;5;28;01mdef\u001B[39;00m \u001B[38;5;21mwrapper\u001B[39m(\u001B[38;5;241m*\u001B[39margs, \u001B[38;5;241m*\u001B[39m\u001B[38;5;241m*\u001B[39mkwargs):\n\u001B[0;32m    150\u001B[0m     \u001B[38;5;66;03m# hack, because log is applied to methods, we can get\u001B[39;00m\n\u001B[0;32m    151\u001B[0m     \u001B[38;5;66;03m# object instance as first arguments in args\u001B[39;00m\n\u001B[0;32m    152\u001B[0m     logger\u001B[38;5;241m.\u001B[39mdebug(\u001B[38;5;124mf\u001B[39m\u001B[38;5;124m\"\u001B[39m\u001B[38;5;124mcalling \u001B[39m\u001B[38;5;132;01m{\u001B[39;00mfunc\u001B[38;5;241m.\u001B[39m\u001B[38;5;18m__name__\u001B[39m\u001B[38;5;132;01m}\u001B[39;00m\u001B[38;5;124m on \u001B[39m\u001B[38;5;132;01m{\u001B[39;00mclassname\u001B[38;5;132;01m}\u001B[39;00m\u001B[38;5;124m\"\u001B[39m)\n\u001B[1;32m--> 153\u001B[0m     res \u001B[38;5;241m=\u001B[39m \u001B[43mfunc\u001B[49m\u001B[43m(\u001B[49m\u001B[38;5;241;43m*\u001B[39;49m\u001B[43margs\u001B[49m\u001B[43m,\u001B[49m\u001B[43m \u001B[49m\u001B[38;5;241;43m*\u001B[39;49m\u001B[38;5;241;43m*\u001B[39;49m\u001B[43mkwargs\u001B[49m\u001B[43m)\u001B[49m\n\u001B[0;32m    154\u001B[0m     logger\u001B[38;5;241m.\u001B[39mdebug(\u001B[38;5;124mf\u001B[39m\u001B[38;5;124m\"\u001B[39m\u001B[38;5;124mcompleted calling \u001B[39m\u001B[38;5;132;01m{\u001B[39;00mfunc\u001B[38;5;241m.\u001B[39m\u001B[38;5;18m__name__\u001B[39m\u001B[38;5;132;01m}\u001B[39;00m\u001B[38;5;124m on \u001B[39m\u001B[38;5;132;01m{\u001B[39;00mclassname\u001B[38;5;132;01m}\u001B[39;00m\u001B[38;5;124m\"\u001B[39m)\n\u001B[0;32m    155\u001B[0m     \u001B[38;5;28;01mreturn\u001B[39;00m res\n",
      "File \u001B[1;32m~\\PycharmProjects\\EPA141A-Model-based-decision-making\\.venv\\Lib\\site-packages\\ema_workbench\\em_framework\\experiment_runner.py:108\u001B[0m, in \u001B[0;36mExperimentRunner.run_experiment\u001B[1;34m(self, experiment)\u001B[0m\n\u001B[0;32m    102\u001B[0m     \u001B[38;5;66;03m#             exception = traceback.print_exc()\u001B[39;00m\n\u001B[0;32m    103\u001B[0m     \u001B[38;5;66;03m#             if exception:\u001B[39;00m\n\u001B[0;32m    104\u001B[0m     \u001B[38;5;66;03m#                 sys.stderr.write(exception)\u001B[39;00m\n\u001B[0;32m    105\u001B[0m     \u001B[38;5;66;03m#                 sys.stderr.write(\"\\n\")\u001B[39;00m\n\u001B[0;32m    107\u001B[0m     errortype \u001B[38;5;241m=\u001B[39m \u001B[38;5;28mtype\u001B[39m(e)\u001B[38;5;241m.\u001B[39m\u001B[38;5;18m__name__\u001B[39m\n\u001B[1;32m--> 108\u001B[0m     \u001B[38;5;28;01mraise\u001B[39;00m EMAError(\u001B[38;5;124mf\u001B[39m\u001B[38;5;124m\"\u001B[39m\u001B[38;5;124mException in run_model\u001B[39m\u001B[38;5;130;01m\\n\u001B[39;00m\u001B[38;5;124mCaused by: \u001B[39m\u001B[38;5;132;01m{\u001B[39;00merrortype\u001B[38;5;132;01m}\u001B[39;00m\u001B[38;5;124m: \u001B[39m\u001B[38;5;132;01m{\u001B[39;00m\u001B[38;5;28mstr\u001B[39m(e)\u001B[38;5;132;01m}\u001B[39;00m\u001B[38;5;124m\"\u001B[39m)\n\u001B[0;32m    110\u001B[0m outcomes \u001B[38;5;241m=\u001B[39m model\u001B[38;5;241m.\u001B[39moutcomes_output\n\u001B[0;32m    111\u001B[0m model\u001B[38;5;241m.\u001B[39mreset_model()\n",
      "\u001B[1;31mEMAError\u001B[0m: Exception in run_model\nCaused by: TypeError: expected str, bytes or os.PathLike object, not NoneType"
     ]
    }
   ],
   "source": [
    "ema_logging.log_to_stderr(ema_logging.INFO)\n",
    "\n",
    "#We can define common uncertainties and outcomes for each model:\n",
    "uncertainties = [RealParameter('prey_birth_rate', 0.015, 0.035),\n",
    "                 RealParameter('predation_rate', 0.0005, 0.003),\n",
    "                 RealParameter('predator_efficiency', 0.001, 0.004),\n",
    "                 RealParameter('predator_loss_rate', 0.04, 0.08)] \n",
    "\n",
    "outcomes = [TimeSeriesOutcome('TIME', function=np.squeeze),\n",
    "            TimeSeriesOutcome('predators', function=np.squeeze),\n",
    "            TimeSeriesOutcome('prey', function=np.squeeze)]\n",
    "\n",
    "\n",
    "#Define the Python model\n",
    "py_model = Model('Python', function=PredPrey)\n",
    "py_model.uncertainties = uncertainties\n",
    "py_model.outcomes = outcomes\n",
    "\n",
    "#Define the NetLogo model\n",
    "nl_model = NetLogoModel('NetLogo', wd='./model/', model_file=\"PredPrey.nlogo\")\n",
    "nl_model.run_length = int(365 / 0.25)\n",
    "nl_model.replications = 1\n",
    "nl_model.uncertainties = uncertainties\n",
    "nl_model.outcomes = outcomes\n",
    "\n",
    "#Define the Excel model\n",
    "excel_model = ExcelModel('Excel', wd='./model/', model_file='PredPrey.xlsx')\n",
    "excel_model.default_sheet = 'Sheet1'\n",
    "excel_model.uncertainties = uncertainties\n",
    "excel_model.outcomes = outcomes\n",
    "\n",
    "#Define the PySD (Vensim) model\n",
    "pysd_model = PysdModel('PySD', mdl_file='./model/PredPrey.mdl')\n",
    "pysd_model.uncertainties = uncertainties\n",
    "pysd_model.outcomes = outcomes\n",
    "    \n",
    "nr_experiments = 50\n",
    "\n",
    "#Using Latin Hypercube sampling\n",
    "experiments, outcomes = perform_experiments([py_model, nl_model, excel_model, pysd_model],\n",
    "                                  nr_experiments, uncertainty_sampling=Samplers.LHS)"
   ],
   "metadata": {
    "collapsed": false,
    "ExecuteTime": {
     "end_time": "2024-05-09T09:47:08.164513300Z",
     "start_time": "2024-05-09T09:47:07.751885500Z"
    }
   },
   "execution_count": 27
  },
  {
   "cell_type": "code",
   "execution_count": 15,
   "metadata": {
    "collapsed": false,
    "ExecuteTime": {
     "end_time": "2024-05-09T09:41:39.542109300Z",
     "start_time": "2024-05-09T09:41:35.553653500Z"
    }
   },
   "outputs": [
    {
     "name": "stderr",
     "output_type": "stream",
     "text": [
      "100%|█████████████████████████████████████| 1000/1000 [00:03<00:00, 256.20it/s]\n"
     ]
    }
   ],
   "source": [
    "# Define model objects for the different implementations\n",
    "from ema_workbench import SequentialEvaluator\n",
    "\n",
    "with SequentialEvaluator(model) as evaluator:\n",
    "    results = experiments, outcomes = evaluator.perform_experiments(scenarios=1000)"
   ]
  },
  {
   "cell_type": "code",
   "outputs": [
    {
     "data": {
      "text/plain": "{'TIME': array([[0.0000e+00, 2.5000e-01, 5.0000e-01, ..., 3.6450e+02, 3.6475e+02,\n         3.6500e+02],\n        [0.0000e+00, 2.5000e-01, 5.0000e-01, ..., 3.6450e+02, 3.6475e+02,\n         3.6500e+02],\n        [0.0000e+00, 2.5000e-01, 5.0000e-01, ..., 3.6450e+02, 3.6475e+02,\n         3.6500e+02],\n        ...,\n        [0.0000e+00, 2.5000e-01, 5.0000e-01, ..., 3.6450e+02, 3.6475e+02,\n         3.6500e+02],\n        [0.0000e+00, 2.5000e-01, 5.0000e-01, ..., 3.6450e+02, 3.6475e+02,\n         3.6500e+02],\n        [0.0000e+00, 2.5000e-01, 5.0000e-01, ..., 3.6450e+02, 3.6475e+02,\n         3.6500e+02]]),\n 'predators': array([[20.        , 20.52936847, 21.07334157, ...,  5.23416731,\n          5.17601228,  5.11856789],\n        [20.        , 20.18650938, 20.37316525, ..., 19.78264206,\n         19.64381975, 19.50551604],\n        [20.        , 20.29076671, 20.58080574, ...,  1.9150667 ,\n          1.89817274,  1.88144612],\n        ...,\n        [20.        , 20.54792561, 21.10607943, ...,  1.33099586,\n          1.35236952,  1.37436675],\n        [20.        , 20.51697061, 21.042851  , ...,  0.35893908,\n          0.35913173,  0.35935608],\n        [20.        , 20.54583533, 21.10642541, ...,  1.36943389,\n          1.37714322,  1.3850763 ]]),\n 'prey': array([[50.        , 50.0349325 , 50.06521531, ...,  4.56005412,\n          4.57512211,  4.59028683],\n        [50.        , 49.83213011, 49.65978608, ..., 15.23022004,\n         15.18088048, 15.13284306],\n        [50.        , 49.53521825, 49.06471263, ...,  5.5388654 ,\n          5.55723335,  5.57572769],\n        ...,\n        [50.        , 49.71123562, 49.40527091, ..., 35.93461501,\n         36.19179515, 36.45028005],\n        [50.        , 49.73793278, 49.46322461, ..., 19.43796611,\n         19.54417007, 19.65095224],\n        [50.        , 49.99126385, 49.97156669, ..., 22.63227263,\n         22.79771665, 22.96429946]])}"
     },
     "execution_count": 18,
     "metadata": {},
     "output_type": "execute_result"
    }
   ],
   "source": [
    "import pandas as pd\n",
    "import seaborn as sns\n",
    "\n",
    "experiments, outcomes = results\n",
    "time = outcomes['TIME'][0]\n",
    "outcomes"
   ],
   "metadata": {
    "collapsed": false,
    "ExecuteTime": {
     "end_time": "2024-05-09T09:42:09.035820Z",
     "start_time": "2024-05-09T09:42:09.025249900Z"
    }
   },
   "execution_count": 18
  }
 ],
 "metadata": {
  "kernelspec": {
   "display_name": "Python 3",
   "language": "python",
   "name": "python3"
  },
  "language_info": {
   "codemirror_mode": {
    "name": "ipython",
    "version": 3
   },
   "file_extension": ".py",
   "mimetype": "text/x-python",
   "name": "python",
   "nbconvert_exporter": "python",
   "pygments_lexer": "ipython3",
   "version": "3.8.5"
  }
 },
 "nbformat": 4,
 "nbformat_minor": 4
}
